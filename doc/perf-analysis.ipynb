{
 "cells": [
  {
   "cell_type": "code",
   "execution_count": 1,
   "metadata": {},
   "outputs": [],
   "source": [
    "import glob\n",
    "import matplotlib.pyplot as plt\n",
    "import numpy as np\n",
    "import pandas as pd\n",
    "\n",
    "def csv2df(pattern):\n",
    "    df = None\n",
    "    for f in sorted(glob.iglob(pattern)):\n",
    "        df0 = pd.read_csv(f, header=None, names=[\"test\", \"info\", \"time\"])\n",
    "        if df is None:\n",
    "            df = df0\n",
    "        else:\n",
    "            df[\"time\"] = np.minimum(df[\"time\"], df0[\"time\"])\n",
    "    df[[\"ds\", \"name\"]] = df[\"test\"].str.extract(r\"([^_]+)_(.*)_test\")\n",
    "    return df[[\"ds\", \"name\", \"info\", \"time\"]]\n",
    "\n",
    "tdf = None\n",
    "mdf = None\n",
    "for s in [\"win\", \"lnx\"]:\n",
    "    df = csv2df(\"*-%s-*.csv\" % s)\n",
    "    tdf0 = df.loc[df[\"name\"] != \"memtrack\"][[\"ds\", \"name\", \"time\"]].rename(columns={\"time\": s})\n",
    "    tdf0 = tdf0.set_index(['ds', 'name'])\n",
    "    tdf0[s] = tdf0.groupby('name')[s].transform(lambda x: x / x.loc['imap'])\n",
    "    tdf0 = tdf0.reset_index()\n",
    "    if tdf is None:\n",
    "        tdf = tdf0\n",
    "    else:\n",
    "        tdf = tdf.merge(tdf0, how=\"left\")\n",
    "    mdf0 = df.loc[df[\"name\"] == \"memtrack\"][[\"ds\", \"name\", \"info\"]].rename(columns={\"info\": s})\n",
    "    mdf0[s] = mdf0[s].apply(lambda x: int(x.split(\"/\")[1]) if \"/\" in x else int(x))\n",
    "    if mdf is None:\n",
    "        mdf = mdf0\n",
    "    else:\n",
    "        mdf = mdf.merge(mdf0, how=\"left\")"
   ]
  },
  {
   "cell_type": "code",
   "execution_count": 2,
   "metadata": {},
   "outputs": [],
   "source": [
    "for t, gdf in tdf.groupby(\"name\", sort=False):\n",
    "    gdf = gdf.set_index(\"ds\")\n",
    "    plt.figure(figsize=(6,3), dpi=100, facecolor=\"white\")\n",
    "    plt.title(t)\n",
    "    gdf.plot.barh(ax=plt.gca()).invert_yaxis()\n",
    "    plt.gca().set_xlim(0,22)\n",
    "    plt.gca().set(ylabel=None)\n",
    "    for container in plt.gca().containers:\n",
    "        plt.gca().bar_label(container, fmt=\"%0.2f\", padding=4.0, fontsize=\"xx-small\")\n",
    "    plt.savefig(t + \".png\")\n",
    "    #plt.show()\n",
    "    plt.close()"
   ]
  },
  {
   "cell_type": "code",
   "execution_count": 3,
   "metadata": {},
   "outputs": [],
   "source": [
    "for t, gdf in mdf.groupby(\"name\", sort=False):\n",
    "    gdf = gdf.set_index(\"ds\")\n",
    "    plt.figure(figsize=(6,3), dpi=100, facecolor=\"white\")\n",
    "    plt.title(t)\n",
    "    gdf.plot.barh(ax=plt.gca()).invert_yaxis()\n",
    "    plt.gca().set(ylabel=None)\n",
    "    for container in plt.gca().containers:\n",
    "        plt.gca().bar_label(container, fmt=\"%0.0f\", padding=4.0, fontsize=\"xx-small\")\n",
    "    plt.savefig(t + \".png\")\n",
    "    #plt.show()\n",
    "    plt.close()"
   ]
  }
 ],
 "metadata": {
  "kernelspec": {
   "display_name": "base",
   "language": "python",
   "name": "python3"
  },
  "language_info": {
   "codemirror_mode": {
    "name": "ipython",
    "version": 3
   },
   "file_extension": ".py",
   "mimetype": "text/x-python",
   "name": "python",
   "nbconvert_exporter": "python",
   "pygments_lexer": "ipython3",
   "version": "3.8.12"
  },
  "orig_nbformat": 4,
  "vscode": {
   "interpreter": {
    "hash": "5ee1342b8c83c7fd94b721cc9ad14b7a9882330f075a3387b03555d396d0a96d"
   }
  }
 },
 "nbformat": 4,
 "nbformat_minor": 2
}
